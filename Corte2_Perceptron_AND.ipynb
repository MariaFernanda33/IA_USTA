{
  "nbformat": 4,
  "nbformat_minor": 0,
  "metadata": {
    "colab": {
      "provenance": [],
      "authorship_tag": "ABX9TyM7iqTytHganulpUXpgXZ4a",
      "include_colab_link": true
    },
    "kernelspec": {
      "name": "python3",
      "display_name": "Python 3"
    },
    "language_info": {
      "name": "python"
    }
  },
  "cells": [
    {
      "cell_type": "markdown",
      "metadata": {
        "id": "view-in-github",
        "colab_type": "text"
      },
      "source": [
        "<a href=\"https://colab.research.google.com/github/MariaFernanda33/IA_USTA/blob/main/Corte2_Perceptron_AND.ipynb\" target=\"_parent\"><img src=\"https://colab.research.google.com/assets/colab-badge.svg\" alt=\"Open In Colab\"/></a>"
      ]
    },
    {
      "cell_type": "markdown",
      "source": [
        "# **PERCEPTRON**"
      ],
      "metadata": {
        "id": "G2wyhx1wxNfF"
      }
    },
    {
      "cell_type": "markdown",
      "source": [
        "# **AND**"
      ],
      "metadata": {
        "id": "bRw-ER0D8UZr"
      }
    },
    {
      "cell_type": "markdown",
      "source": [
        "Librerias"
      ],
      "metadata": {
        "id": "pULnHOZmxQRN"
      }
    },
    {
      "cell_type": "code",
      "execution_count": null,
      "metadata": {
        "id": "BIm2qllCwlpW"
      },
      "outputs": [],
      "source": [
        "import numpy as np\n",
        "import pandas as pd\n",
        "import matplotlib.pyplot as plt\n"
      ]
    },
    {
      "cell_type": "markdown",
      "source": [
        "  Data set: Tabla de verdad compuerta AND"
      ],
      "metadata": {
        "id": "EZfOXHj_xgR-"
      }
    },
    {
      "cell_type": "code",
      "source": [
        "inputs = np.array([[0,0],[0,1],[1,0],[1,1]])\n",
        "outputs = np.array([0,0,0,1])"
      ],
      "metadata": {
        "id": "zr_jd02tx9Xq"
      },
      "execution_count": null,
      "outputs": []
    },
    {
      "cell_type": "code",
      "source": [
        "plt.figure(figsize=(4,4))\n",
        "plt.scatter(inputs[:,0],inputs[:,1],marker=\"o\",c=outputs, edgecolor=\"k\")\n",
        "plt.xlabel('A')\n",
        "plt.ylabel('B')\n",
        "plt.show()\n"
      ],
      "metadata": {
        "colab": {
          "base_uri": "https://localhost:8080/",
          "height": 388
        },
        "id": "ETnKo34myT2v",
        "outputId": "43f2d05f-ec23-4013-c40a-5d0ca40965f4"
      },
      "execution_count": null,
      "outputs": [
        {
          "output_type": "display_data",
          "data": {
            "text/plain": [
              "<Figure size 400x400 with 1 Axes>"
            ],
            "image/png": "[encoded data removed]"
          },
          "metadata": {}
        }
      ]
    },
    {
      "cell_type": "markdown",
      "source": [
        "PARAMETROS DE ENTRENAMIENTO\n",
        "\n",
        "\n",
        "* Pesos\n",
        "* Bias\n",
        "* Razon de Aprendizaje (Alpha)\n",
        "\n"
      ],
      "metadata": {
        "id": "J-qNpo4ZzO2S"
      }
    },
    {
      "cell_type": "code",
      "source": [
        "weigths=np.random.rand(2)\n",
        "bias=np.random.rand(1)\n",
        "Alpha=0.1"
      ],
      "metadata": {
        "id": "t_lKxtL4zXVa"
      },
      "execution_count": null,
      "outputs": []
    },
    {
      "cell_type": "code",
      "source": [
        "bias"
      ],
      "metadata": {
        "colab": {
          "base_uri": "https://localhost:8080/"
        },
        "id": "PwiBIh62z-aa",
        "outputId": "66e5417c-35d1-4a04-aded-7f9872934052"
      },
      "execution_count": null,
      "outputs": [
        {
          "output_type": "execute_result",
          "data": {
            "text/plain": [
              "array([0.08440033])"
            ]
          },
          "metadata": {},
          "execution_count": 52
        }
      ]
    },
    {
      "cell_type": "markdown",
      "source": [
        "**MODELO**"
      ],
      "metadata": {
        "id": "uqdCu22Yz9HK"
      }
    },
    {
      "cell_type": "code",
      "source": [
        "#Definir funcion para predecir\n",
        "\n",
        "def predict(inputs):\n",
        "  linear=np.dot(inputs,weigths)+bias\n",
        "  return 1 if linear>0 else 0\n",
        "\n"
      ],
      "metadata": {
        "id": "LIN2QVqFz006"
      },
      "execution_count": null,
      "outputs": []
    },
    {
      "cell_type": "code",
      "source": [
        "def train(inputs,outputs,epochs):\n",
        "  global weigths,bias\n",
        "  for epoch in range(epochs):\n",
        "    total_error=0\n",
        "    for x,y in zip(inputs,outputs):\n",
        "      y_predict=predict(x)\n",
        "      error=y-y_predict\n",
        "      total_error+=abs(error)\n",
        "      weigths+=Alpha*error*x\n",
        "      bias+=Alpha*error\n",
        "    print(f\"Epoch: {epoch+1}, Total error: {total_error}\")\n"
      ],
      "metadata": {
        "id": "5xyf3vez1amx"
      },
      "execution_count": null,
      "outputs": []
    },
    {
      "cell_type": "code",
      "source": [
        "train (inputs,outputs,epochs=10)"
      ],
      "metadata": {
        "colab": {
          "base_uri": "https://localhost:8080/"
        },
        "id": "w4BuyW_c36fT",
        "outputId": "61373c4b-d7ed-4414-8b35-dc0385a008bb"
      },
      "execution_count": null,
      "outputs": [
        {
          "output_type": "stream",
          "name": "stdout",
          "text": [
            "Epoch: 1, Total error: 3\n",
            "Epoch: 2, Total error: 1\n",
            "Epoch: 3, Total error: 2\n",
            "Epoch: 4, Total error: 2\n",
            "Epoch: 5, Total error: 1\n",
            "Epoch: 6, Total error: 0\n",
            "Epoch: 7, Total error: 0\n",
            "Epoch: 8, Total error: 0\n",
            "Epoch: 9, Total error: 0\n",
            "Epoch: 10, Total error: 0\n"
          ]
        }
      ]
    },
    {
      "cell_type": "markdown",
      "source": [
        "GRAFICA LIMITE DE DESICION"
      ],
      "metadata": {
        "id": "ms_Ck6bB5tpG"
      }
    },
    {
      "cell_type": "code",
      "source": [
        "plt.figure(figsize=(4,4))\n",
        "plt.scatter(inputs[:,0],inputs[:,1],marker=\"o\",c=outputs, edgecolor=\"k\")\n",
        "\n",
        "x_values=np.linspace(-1,2,10)\n",
        "y_values=(-weigths[0]/weigths[1])*x_values-(bias/weigths[1])\n",
        "plt.plot(x_values,y_values,color=\"purple\")\n",
        "\n",
        "plt.xlabel('A')\n",
        "plt.ylabel('B')\n",
        "plt.show()"
      ],
      "metadata": {
        "colab": {
          "base_uri": "https://localhost:8080/",
          "height": 388
        },
        "id": "7eSnIxtZ5vwc",
        "outputId": "5092669b-66e2-4613-ea06-eee1e8c5bd2c"
      },
      "execution_count": null,
      "outputs": [
        {
          "output_type": "display_data",
          "data": {
            "text/plain": [
              "<Figure size 400x400 with 1 Axes>"
            ],
            "image/png": "[encoded data removed]"
          },
          "metadata": {}
        }
      ]
    }
  ]
}